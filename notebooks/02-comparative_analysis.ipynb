{
 "cells": [
  {
   "cell_type": "code",
   "execution_count": 1,
   "id": "e4fba321-6f1c-4071-b08c-3030bcc95c1f",
   "metadata": {
    "tags": []
   },
   "outputs": [],
   "source": [
    "from IPython.display import display\n",
    "import joblib\n",
    "import numpy as np\n",
    "import pandas as pd\n",
    "\n",
    "from sklearn.pipeline import Pipeline\n",
    "from sklearn.impute import SimpleImputer\n",
    "from sklearn.preprocessing import StandardScaler, OneHotEncoder\n",
    "from sklearn.compose import ColumnTransformer\n",
    "\n",
    "from sklearn.model_selection import ShuffleSplit, GridSearchCV, KFold, cross_validate\n",
    "from sklearn.neighbors import KNeighborsRegressor\n",
    "from sklearn.svm import SVR\n",
    "from sklearn.tree import DecisionTreeRegressor\n",
    "from sklearn.ensemble import RandomForestRegressor\n",
    "from sklearn.ensemble import GradientBoostingRegressor\n",
    "from sklearn.metrics import make_scorer, mean_squared_error, mean_absolute_error, r2_score"
   ]
  },
  {
   "cell_type": "code",
   "execution_count": 2,
   "id": "ae84815f-8276-473a-a63f-148a561b1f36",
   "metadata": {},
   "outputs": [],
   "source": [
    "import warnings\n",
    "warnings.filterwarnings('ignore', category=UserWarning, module='sklearn.preprocessing._encoders')"
   ]
  },
  {
   "cell_type": "code",
   "execution_count": 3,
   "id": "1c66d8e6-d80e-4343-8fff-d07f358a33a8",
   "metadata": {},
   "outputs": [],
   "source": [
    "df = pd.read_csv('../data/raw/mpg.csv')\n",
    "df_dict = pd.read_csv('../data/external/mpg_dict.csv')"
   ]
  },
  {
   "cell_type": "code",
   "execution_count": 4,
   "id": "f8e64f70-b4ab-4d66-bf6f-1fb3a2b5bf6b",
   "metadata": {},
   "outputs": [],
   "source": [
    "target_column = 'mpg'\n",
    "nominal_columns = (\n",
    "    df_dict\n",
    "    .query(\"subtipo == 'nominal'\")\n",
    "    .variavel\n",
    "    .to_list()\n",
    ")\n",
    "continuous_columns=(\n",
    "    df_dict\n",
    "    .query(\"subtipo == 'continua' and variavel != @target_column\")\n",
    "    .variavel\n",
    "    .to_list()\n",
    ")\n",
    "discrete_columns = (\n",
    "    df_dict\n",
    "    .query(\"subtipo == 'discreta'\")\n",
    "    .variavel\n",
    "    .to_list()\n",
    ")\n",
    "\n",
    "X = df.drop(columns=[target_column], axis=1)\n",
    "y = df[target_column]"
   ]
  },
  {
   "cell_type": "code",
   "execution_count": 5,
   "id": "6248b982-4dea-446e-bd0a-6fe524cf2e1f",
   "metadata": {},
   "outputs": [],
   "source": [
    "nominal_preprocessor = Pipeline([\n",
    "    ('missing', SimpleImputer(strategy='most_frequent')), # tratamento de dados faltantes\n",
    "    ('encoding', OneHotEncoder(sparse_output=False, drop='first', handle_unknown='ignore')), # codificação de variáveis\n",
    "    ('normalization', StandardScaler()) # normalização de dados\n",
    "])\n",
    "continuous_preprocessor = Pipeline([\n",
    "    ('missing', SimpleImputer(strategy='mean')), # tratamento de dados faltantes\n",
    "    ('normalization', StandardScaler()) # normalização de dados\n",
    "])\n",
    "discrete_preprocessor = Pipeline([\n",
    "    ('missing', SimpleImputer(strategy='median')), # tratamento de dados faltantes\n",
    "    ('normalization', StandardScaler()) # normalização de dados\n",
    "])\n",
    "preprocessor = ColumnTransformer([\n",
    "    ('nominal', nominal_preprocessor, nominal_columns),\n",
    "    ('continuous', continuous_preprocessor, continuous_columns),\n",
    "    ('discrete', discrete_preprocessor, discrete_columns)\n",
    "])"
   ]
  },
  {
   "cell_type": "code",
   "execution_count": 6,
   "id": "1ff3ec2d-bfcb-4bb9-8c96-18a26dbdd0f6",
   "metadata": {
    "tags": []
   },
   "outputs": [],
   "source": [
    "# experiment settings\n",
    "n_splits_comparative_analysis = 10\n",
    "n_folds_grid_search = 5\n",
    "test_size = .2\n",
    "random_state = 42\n",
    "scoring = 'neg_mean_squared_error'\n",
    "metrics = {\n",
    "    'neg_mean_squared_error': make_scorer(mean_squared_error, greater_is_better=False),\n",
    "    'neg_mean_absolute_error': make_scorer(mean_absolute_error, greater_is_better=False),\n",
    "    'r2': make_scorer(r2_score)\n",
    "}\n",
    "# model settings\n",
    "models = [\n",
    "    ('K-Nearest Neighbors', KNeighborsRegressor(), {\"n_neighbors\": range(3, 20, 2), 'weights': ['distance', 'uniform']}),\n",
    "    ('Decision Tree',  DecisionTreeRegressor(random_state=random_state), {'criterion':['squared_error', 'friedman_mse'],'max_depth': range(5, 30, 5)}),\n",
    "    ('Random Forest',  RandomForestRegressor(random_state=random_state), {'criterion':['squared_error', 'friedman_mse'],'max_depth': range(5, 30, 5), 'n_estimators': [10, 30, 50, 70]}),\n",
    "    ('Suport Vector Regression', SVR(), {'kernel' : ('linear', 'poly', 'rbf', 'sigmoid'),'C' : [1,5,10],'degree' : [3,8],'coef0' : [0.01,10,0.5],'gamma' : ('auto','scale')}),\n",
    "    ('Gradient Boosting', GradientBoostingRegressor(random_state=random_state), {'n_estimators': range(50, 300, 50), 'learning_rate': [0.01, 0.1, 0.5]})\n",
    "]"
   ]
  },
  {
   "cell_type": "code",
   "execution_count": 7,
   "id": "ba7f7e59-d9a4-41ce-aaaf-65dd273477cc",
   "metadata": {
    "tags": []
   },
   "outputs": [
    {
     "name": "stdout",
     "output_type": "stream",
     "text": [
      "running K-Nearest Neighbors...\n"
     ]
    },
    {
     "data": {
      "text/html": [
       "<div>\n",
       "<style scoped>\n",
       "    .dataframe tbody tr th:only-of-type {\n",
       "        vertical-align: middle;\n",
       "    }\n",
       "\n",
       "    .dataframe tbody tr th {\n",
       "        vertical-align: top;\n",
       "    }\n",
       "\n",
       "    .dataframe thead th {\n",
       "        text-align: right;\n",
       "    }\n",
       "</style>\n",
       "<table border=\"1\" class=\"dataframe\">\n",
       "  <thead>\n",
       "    <tr style=\"text-align: right;\">\n",
       "      <th></th>\n",
       "      <th>fit_time</th>\n",
       "      <th>score_time</th>\n",
       "      <th>test_neg_mean_squared_error</th>\n",
       "      <th>test_neg_mean_absolute_error</th>\n",
       "      <th>test_r2</th>\n",
       "      <th>model_name</th>\n",
       "    </tr>\n",
       "  </thead>\n",
       "  <tbody>\n",
       "    <tr>\n",
       "      <th>0</th>\n",
       "      <td>0.279746</td>\n",
       "      <td>0.021138</td>\n",
       "      <td>-35.675329</td>\n",
       "      <td>-4.3576</td>\n",
       "      <td>0.389654</td>\n",
       "      <td>K-Nearest Neighbors</td>\n",
       "    </tr>\n",
       "  </tbody>\n",
       "</table>\n",
       "</div>"
      ],
      "text/plain": [
       "   fit_time  score_time  test_neg_mean_squared_error  \\\n",
       "0  0.279746    0.021138                   -35.675329   \n",
       "\n",
       "   test_neg_mean_absolute_error   test_r2           model_name  \n",
       "0                       -4.3576  0.389654  K-Nearest Neighbors  "
      ]
     },
     "metadata": {},
     "output_type": "display_data"
    },
    {
     "name": "stdout",
     "output_type": "stream",
     "text": [
      "running Decision Tree...\n"
     ]
    },
    {
     "data": {
      "text/html": [
       "<div>\n",
       "<style scoped>\n",
       "    .dataframe tbody tr th:only-of-type {\n",
       "        vertical-align: middle;\n",
       "    }\n",
       "\n",
       "    .dataframe tbody tr th {\n",
       "        vertical-align: top;\n",
       "    }\n",
       "\n",
       "    .dataframe thead th {\n",
       "        text-align: right;\n",
       "    }\n",
       "</style>\n",
       "<table border=\"1\" class=\"dataframe\">\n",
       "  <thead>\n",
       "    <tr style=\"text-align: right;\">\n",
       "      <th></th>\n",
       "      <th>fit_time</th>\n",
       "      <th>score_time</th>\n",
       "      <th>test_neg_mean_squared_error</th>\n",
       "      <th>test_neg_mean_absolute_error</th>\n",
       "      <th>test_r2</th>\n",
       "      <th>model_name</th>\n",
       "    </tr>\n",
       "  </thead>\n",
       "  <tbody>\n",
       "    <tr>\n",
       "      <th>0</th>\n",
       "      <td>0.089543</td>\n",
       "      <td>0.005314</td>\n",
       "      <td>-10.80661</td>\n",
       "      <td>-2.321629</td>\n",
       "      <td>0.814602</td>\n",
       "      <td>Decision Tree</td>\n",
       "    </tr>\n",
       "  </tbody>\n",
       "</table>\n",
       "</div>"
      ],
      "text/plain": [
       "   fit_time  score_time  test_neg_mean_squared_error  \\\n",
       "0  0.089543    0.005314                    -10.80661   \n",
       "\n",
       "   test_neg_mean_absolute_error   test_r2     model_name  \n",
       "0                     -2.321629  0.814602  Decision Tree  "
      ]
     },
     "metadata": {},
     "output_type": "display_data"
    },
    {
     "name": "stdout",
     "output_type": "stream",
     "text": [
      "running Random Forest...\n"
     ]
    },
    {
     "data": {
      "text/html": [
       "<div>\n",
       "<style scoped>\n",
       "    .dataframe tbody tr th:only-of-type {\n",
       "        vertical-align: middle;\n",
       "    }\n",
       "\n",
       "    .dataframe tbody tr th {\n",
       "        vertical-align: top;\n",
       "    }\n",
       "\n",
       "    .dataframe thead th {\n",
       "        text-align: right;\n",
       "    }\n",
       "</style>\n",
       "<table border=\"1\" class=\"dataframe\">\n",
       "  <thead>\n",
       "    <tr style=\"text-align: right;\">\n",
       "      <th></th>\n",
       "      <th>fit_time</th>\n",
       "      <th>score_time</th>\n",
       "      <th>test_neg_mean_squared_error</th>\n",
       "      <th>test_neg_mean_absolute_error</th>\n",
       "      <th>test_r2</th>\n",
       "      <th>model_name</th>\n",
       "    </tr>\n",
       "  </thead>\n",
       "  <tbody>\n",
       "    <tr>\n",
       "      <th>0</th>\n",
       "      <td>2.035706</td>\n",
       "      <td>0.007214</td>\n",
       "      <td>-6.876601</td>\n",
       "      <td>-1.876835</td>\n",
       "      <td>0.882685</td>\n",
       "      <td>Random Forest</td>\n",
       "    </tr>\n",
       "  </tbody>\n",
       "</table>\n",
       "</div>"
      ],
      "text/plain": [
       "   fit_time  score_time  test_neg_mean_squared_error  \\\n",
       "0  2.035706    0.007214                    -6.876601   \n",
       "\n",
       "   test_neg_mean_absolute_error   test_r2     model_name  \n",
       "0                     -1.876835  0.882685  Random Forest  "
      ]
     },
     "metadata": {},
     "output_type": "display_data"
    },
    {
     "name": "stdout",
     "output_type": "stream",
     "text": [
      "running Suport Vector Regression...\n"
     ]
    },
    {
     "data": {
      "text/html": [
       "<div>\n",
       "<style scoped>\n",
       "    .dataframe tbody tr th:only-of-type {\n",
       "        vertical-align: middle;\n",
       "    }\n",
       "\n",
       "    .dataframe tbody tr th {\n",
       "        vertical-align: top;\n",
       "    }\n",
       "\n",
       "    .dataframe thead th {\n",
       "        text-align: right;\n",
       "    }\n",
       "</style>\n",
       "<table border=\"1\" class=\"dataframe\">\n",
       "  <thead>\n",
       "    <tr style=\"text-align: right;\">\n",
       "      <th></th>\n",
       "      <th>fit_time</th>\n",
       "      <th>score_time</th>\n",
       "      <th>test_neg_mean_squared_error</th>\n",
       "      <th>test_neg_mean_absolute_error</th>\n",
       "      <th>test_r2</th>\n",
       "      <th>model_name</th>\n",
       "    </tr>\n",
       "  </thead>\n",
       "  <tbody>\n",
       "    <tr>\n",
       "      <th>0</th>\n",
       "      <td>1.488226</td>\n",
       "      <td>0.006929</td>\n",
       "      <td>-14.339946</td>\n",
       "      <td>-2.78834</td>\n",
       "      <td>0.75578</td>\n",
       "      <td>Suport Vector Regression</td>\n",
       "    </tr>\n",
       "  </tbody>\n",
       "</table>\n",
       "</div>"
      ],
      "text/plain": [
       "   fit_time  score_time  test_neg_mean_squared_error  \\\n",
       "0  1.488226    0.006929                   -14.339946   \n",
       "\n",
       "   test_neg_mean_absolute_error  test_r2                model_name  \n",
       "0                      -2.78834  0.75578  Suport Vector Regression  "
      ]
     },
     "metadata": {},
     "output_type": "display_data"
    },
    {
     "name": "stdout",
     "output_type": "stream",
     "text": [
      "running Gradient Boosting...\n"
     ]
    },
    {
     "data": {
      "text/html": [
       "<div>\n",
       "<style scoped>\n",
       "    .dataframe tbody tr th:only-of-type {\n",
       "        vertical-align: middle;\n",
       "    }\n",
       "\n",
       "    .dataframe tbody tr th {\n",
       "        vertical-align: top;\n",
       "    }\n",
       "\n",
       "    .dataframe thead th {\n",
       "        text-align: right;\n",
       "    }\n",
       "</style>\n",
       "<table border=\"1\" class=\"dataframe\">\n",
       "  <thead>\n",
       "    <tr style=\"text-align: right;\">\n",
       "      <th></th>\n",
       "      <th>fit_time</th>\n",
       "      <th>score_time</th>\n",
       "      <th>test_neg_mean_squared_error</th>\n",
       "      <th>test_neg_mean_absolute_error</th>\n",
       "      <th>test_r2</th>\n",
       "      <th>model_name</th>\n",
       "    </tr>\n",
       "  </thead>\n",
       "  <tbody>\n",
       "    <tr>\n",
       "      <th>0</th>\n",
       "      <td>1.816547</td>\n",
       "      <td>0.005855</td>\n",
       "      <td>-7.152358</td>\n",
       "      <td>-1.96269</td>\n",
       "      <td>0.87789</td>\n",
       "      <td>Gradient Boosting</td>\n",
       "    </tr>\n",
       "  </tbody>\n",
       "</table>\n",
       "</div>"
      ],
      "text/plain": [
       "   fit_time  score_time  test_neg_mean_squared_error  \\\n",
       "0  1.816547    0.005855                    -7.152358   \n",
       "\n",
       "   test_neg_mean_absolute_error  test_r2         model_name  \n",
       "0                      -1.96269  0.87789  Gradient Boosting  "
      ]
     },
     "metadata": {},
     "output_type": "display_data"
    },
    {
     "data": {
      "text/html": [
       "<div>\n",
       "<style scoped>\n",
       "    .dataframe tbody tr th:only-of-type {\n",
       "        vertical-align: middle;\n",
       "    }\n",
       "\n",
       "    .dataframe tbody tr th {\n",
       "        vertical-align: top;\n",
       "    }\n",
       "\n",
       "    .dataframe thead th {\n",
       "        text-align: right;\n",
       "    }\n",
       "</style>\n",
       "<table border=\"1\" class=\"dataframe\">\n",
       "  <thead>\n",
       "    <tr style=\"text-align: right;\">\n",
       "      <th></th>\n",
       "      <th>fit_time</th>\n",
       "      <th>score_time</th>\n",
       "      <th>test_neg_mean_squared_error</th>\n",
       "      <th>test_neg_mean_absolute_error</th>\n",
       "      <th>test_r2</th>\n",
       "      <th>model_name</th>\n",
       "    </tr>\n",
       "  </thead>\n",
       "  <tbody>\n",
       "    <tr>\n",
       "      <th>0</th>\n",
       "      <td>0.279746</td>\n",
       "      <td>0.021138</td>\n",
       "      <td>-35.675329</td>\n",
       "      <td>-4.357600</td>\n",
       "      <td>0.389654</td>\n",
       "      <td>K-Nearest Neighbors</td>\n",
       "    </tr>\n",
       "    <tr>\n",
       "      <th>1</th>\n",
       "      <td>0.089543</td>\n",
       "      <td>0.005314</td>\n",
       "      <td>-10.806610</td>\n",
       "      <td>-2.321629</td>\n",
       "      <td>0.814602</td>\n",
       "      <td>Decision Tree</td>\n",
       "    </tr>\n",
       "    <tr>\n",
       "      <th>2</th>\n",
       "      <td>2.035706</td>\n",
       "      <td>0.007214</td>\n",
       "      <td>-6.876601</td>\n",
       "      <td>-1.876835</td>\n",
       "      <td>0.882685</td>\n",
       "      <td>Random Forest</td>\n",
       "    </tr>\n",
       "    <tr>\n",
       "      <th>3</th>\n",
       "      <td>1.488226</td>\n",
       "      <td>0.006929</td>\n",
       "      <td>-14.339946</td>\n",
       "      <td>-2.788340</td>\n",
       "      <td>0.755780</td>\n",
       "      <td>Suport Vector Regression</td>\n",
       "    </tr>\n",
       "    <tr>\n",
       "      <th>4</th>\n",
       "      <td>1.816547</td>\n",
       "      <td>0.005855</td>\n",
       "      <td>-7.152358</td>\n",
       "      <td>-1.962690</td>\n",
       "      <td>0.877890</td>\n",
       "      <td>Gradient Boosting</td>\n",
       "    </tr>\n",
       "  </tbody>\n",
       "</table>\n",
       "</div>"
      ],
      "text/plain": [
       "   fit_time  score_time  test_neg_mean_squared_error  \\\n",
       "0  0.279746    0.021138                   -35.675329   \n",
       "1  0.089543    0.005314                   -10.806610   \n",
       "2  2.035706    0.007214                    -6.876601   \n",
       "3  1.488226    0.006929                   -14.339946   \n",
       "4  1.816547    0.005855                    -7.152358   \n",
       "\n",
       "   test_neg_mean_absolute_error   test_r2                model_name  \n",
       "0                     -4.357600  0.389654       K-Nearest Neighbors  \n",
       "1                     -2.321629  0.814602             Decision Tree  \n",
       "2                     -1.876835  0.882685             Random Forest  \n",
       "3                     -2.788340  0.755780  Suport Vector Regression  \n",
       "4                     -1.962690  0.877890         Gradient Boosting  "
      ]
     },
     "metadata": {},
     "output_type": "display_data"
    }
   ],
   "source": [
    "results = pd.DataFrame({})\n",
    "cross_validate_grid_search = KFold(n_splits=n_folds_grid_search)\n",
    "cross_validate_comparative_analysis = ShuffleSplit(n_splits=n_splits_comparative_analysis, test_size=test_size, random_state=random_state)\n",
    "for model_name, model_object, model_parameters in models:\n",
    "    print(f\"running {model_name}...\")\n",
    "    model_grid_search = GridSearchCV(\n",
    "        estimator=model_object,\n",
    "        param_grid=model_parameters,\n",
    "        scoring=scoring,\n",
    "        n_jobs=-1,\n",
    "        cv=cross_validate_grid_search\n",
    "    )\n",
    "    approach = Pipeline(steps=[\n",
    "        ('preprocessor', preprocessor),\n",
    "        ('model', model_grid_search)\n",
    "    ])\n",
    "    scores = cross_validate(\n",
    "        estimator=approach,\n",
    "        X=X,\n",
    "        y=y,\n",
    "        cv=cross_validate_comparative_analysis,\n",
    "        scoring=metrics\n",
    "    )\n",
    "    \n",
    "    scores_df = pd.DataFrame(scores).mean().to_frame().T\n",
    "    scores_df['model_name'] = model_name\n",
    "    display(scores_df)\n",
    "    \n",
    "    results = pd.concat([results, scores_df], ignore_index=True)\n",
    "    \n",
    "display(results)"
   ]
  },
  {
   "cell_type": "code",
   "execution_count": 8,
   "id": "9fcb75f2-a716-4da4-bade-d0fbe3d72abe",
   "metadata": {
    "tags": []
   },
   "outputs": [
    {
     "data": {
      "text/html": [
       "<style type=\"text/css\">\n",
       "#T_f56d0 td {\n",
       "  text-align: center;\n",
       "}\n",
       "#T_f56d0_row0_col0, #T_f56d0_row1_col0, #T_f56d0_row2_col3, #T_f56d0_row3_col3, #T_f56d0_row4_col3 {\n",
       "  color: white;\n",
       "  background-color: gray;\n",
       "  font-weight: bold;\n",
       "}\n",
       "</style>\n",
       "<table id=\"T_f56d0\">\n",
       "  <thead>\n",
       "    <tr>\n",
       "      <th class=\"index_name level0\" >model_name</th>\n",
       "      <th id=\"T_f56d0_level0_col0\" class=\"col_heading level0 col0\" >Decision Tree</th>\n",
       "      <th id=\"T_f56d0_level0_col1\" class=\"col_heading level0 col1\" >Gradient Boosting</th>\n",
       "      <th id=\"T_f56d0_level0_col2\" class=\"col_heading level0 col2\" >K-Nearest Neighbors</th>\n",
       "      <th id=\"T_f56d0_level0_col3\" class=\"col_heading level0 col3\" >Random Forest</th>\n",
       "      <th id=\"T_f56d0_level0_col4\" class=\"col_heading level0 col4\" >Suport Vector Regression</th>\n",
       "    </tr>\n",
       "  </thead>\n",
       "  <tbody>\n",
       "    <tr>\n",
       "      <th id=\"T_f56d0_level0_row0\" class=\"row_heading level0 row0\" >fit_time</th>\n",
       "      <td id=\"T_f56d0_row0_col0\" class=\"data row0 col0\" >0.089543</td>\n",
       "      <td id=\"T_f56d0_row0_col1\" class=\"data row0 col1\" >1.816547</td>\n",
       "      <td id=\"T_f56d0_row0_col2\" class=\"data row0 col2\" >0.279746</td>\n",
       "      <td id=\"T_f56d0_row0_col3\" class=\"data row0 col3\" >2.035706</td>\n",
       "      <td id=\"T_f56d0_row0_col4\" class=\"data row0 col4\" >1.488226</td>\n",
       "    </tr>\n",
       "    <tr>\n",
       "      <th id=\"T_f56d0_level0_row1\" class=\"row_heading level0 row1\" >score_time</th>\n",
       "      <td id=\"T_f56d0_row1_col0\" class=\"data row1 col0\" >0.005314</td>\n",
       "      <td id=\"T_f56d0_row1_col1\" class=\"data row1 col1\" >0.005855</td>\n",
       "      <td id=\"T_f56d0_row1_col2\" class=\"data row1 col2\" >0.021138</td>\n",
       "      <td id=\"T_f56d0_row1_col3\" class=\"data row1 col3\" >0.007214</td>\n",
       "      <td id=\"T_f56d0_row1_col4\" class=\"data row1 col4\" >0.006929</td>\n",
       "    </tr>\n",
       "    <tr>\n",
       "      <th id=\"T_f56d0_level0_row2\" class=\"row_heading level0 row2\" >test_neg_mean_squared_error</th>\n",
       "      <td id=\"T_f56d0_row2_col0\" class=\"data row2 col0\" >-10.806610</td>\n",
       "      <td id=\"T_f56d0_row2_col1\" class=\"data row2 col1\" >-7.152358</td>\n",
       "      <td id=\"T_f56d0_row2_col2\" class=\"data row2 col2\" >-35.675329</td>\n",
       "      <td id=\"T_f56d0_row2_col3\" class=\"data row2 col3\" >-6.876601</td>\n",
       "      <td id=\"T_f56d0_row2_col4\" class=\"data row2 col4\" >-14.339946</td>\n",
       "    </tr>\n",
       "    <tr>\n",
       "      <th id=\"T_f56d0_level0_row3\" class=\"row_heading level0 row3\" >test_neg_mean_absolute_error</th>\n",
       "      <td id=\"T_f56d0_row3_col0\" class=\"data row3 col0\" >-2.321629</td>\n",
       "      <td id=\"T_f56d0_row3_col1\" class=\"data row3 col1\" >-1.962690</td>\n",
       "      <td id=\"T_f56d0_row3_col2\" class=\"data row3 col2\" >-4.357600</td>\n",
       "      <td id=\"T_f56d0_row3_col3\" class=\"data row3 col3\" >-1.876835</td>\n",
       "      <td id=\"T_f56d0_row3_col4\" class=\"data row3 col4\" >-2.788340</td>\n",
       "    </tr>\n",
       "    <tr>\n",
       "      <th id=\"T_f56d0_level0_row4\" class=\"row_heading level0 row4\" >test_r2</th>\n",
       "      <td id=\"T_f56d0_row4_col0\" class=\"data row4 col0\" >0.814602</td>\n",
       "      <td id=\"T_f56d0_row4_col1\" class=\"data row4 col1\" >0.877890</td>\n",
       "      <td id=\"T_f56d0_row4_col2\" class=\"data row4 col2\" >0.389654</td>\n",
       "      <td id=\"T_f56d0_row4_col3\" class=\"data row4 col3\" >0.882685</td>\n",
       "      <td id=\"T_f56d0_row4_col4\" class=\"data row4 col4\" >0.755780</td>\n",
       "    </tr>\n",
       "  </tbody>\n",
       "</table>\n"
      ],
      "text/plain": [
       "<pandas.io.formats.style.Styler at 0x7fad531d28f0>"
      ]
     },
     "metadata": {},
     "output_type": "display_data"
    }
   ],
   "source": [
    "def highlight_best(s, props=''):\n",
    "    if s.name.endswith('time'):\n",
    "        return np.where(s == np.nanmin(s.values), props, '')\n",
    "    return np.where(s == np.nanmax(s.values), props, '')\n",
    "\n",
    "display(\n",
    "    results\n",
    "    .groupby('model_name')\n",
    "    .mean()  \n",
    "    .T\n",
    "    .style\n",
    "    .apply(highlight_best, props='color:white;background-color:gray;font-weight: bold;', axis=1)\n",
    "    .set_table_styles([{'selector': 'td', 'props': 'text-align: center;'}])\n",
    ")"
   ]
  },
  {
   "cell_type": "code",
   "execution_count": 9,
   "id": "ba2a8098-20e0-43c7-b2e1-78917f9b1b23",
   "metadata": {
    "tags": []
   },
   "outputs": [
    {
     "name": "stdout",
     "output_type": "stream",
     "text": [
      "Hiper parâmetros do modelo: {'criterion': 'squared_error', 'max_depth': 20, 'n_estimators': 30}\n"
     ]
    }
   ],
   "source": [
    "#Obtem o modelo e os parametros ganhadores\n",
    "model_name, model_object, model_parameters  = [foo for foo in models if foo[0] == \"Random Forest\"][0] \n",
    "\n",
    "\n",
    "model_grid_search = GridSearchCV(\n",
    "        estimator=model_object,\n",
    "        param_grid=model_parameters,\n",
    "        scoring=scoring,\n",
    "        n_jobs=-1,\n",
    "        cv=cross_validate_grid_search\n",
    "    )\n",
    "\n",
    "approach = Pipeline([\n",
    "    (\"preprocessor\", preprocessor),\n",
    "    (\"model\", model_grid_search)\n",
    "])\n",
    "\n",
    "approach.fit(X, y) #Seleciona o approach\n",
    "\n",
    "print(f\"Hiper parâmetros do modelo: {approach.steps[1][1].best_params_}\")"
   ]
  },
  {
   "cell_type": "code",
   "execution_count": 10,
   "id": "d7f4d2f5-99da-4b0a-8b51-22e30d7f665a",
   "metadata": {
    "tags": []
   },
   "outputs": [
    {
     "data": {
      "text/plain": [
       "['../models/model.joblib']"
      ]
     },
     "execution_count": 10,
     "metadata": {},
     "output_type": "execute_result"
    }
   ],
   "source": [
    "joblib.dump(approach, '../models/model.joblib') # Salva o modelo em disco"
   ]
  }
 ],
 "metadata": {
  "kernelspec": {
   "display_name": "Python 3 (ipykernel)",
   "language": "python",
   "name": "python3"
  },
  "language_info": {
   "codemirror_mode": {
    "name": "ipython",
    "version": 3
   },
   "file_extension": ".py",
   "mimetype": "text/x-python",
   "name": "python",
   "nbconvert_exporter": "python",
   "pygments_lexer": "ipython3",
   "version": "3.10.12"
  }
 },
 "nbformat": 4,
 "nbformat_minor": 5
}
