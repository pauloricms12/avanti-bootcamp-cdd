{
 "cells": [
  {
   "cell_type": "markdown",
   "metadata": {
    "tags": []
   },
   "source": [
    "# Análise exploratória de dados"
   ]
  },
  {
   "cell_type": "code",
   "execution_count": 1,
   "metadata": {},
   "outputs": [],
   "source": [
    "import pandas as pd\n",
    "import seaborn as sns"
   ]
  },
  {
   "cell_type": "markdown",
   "metadata": {
    "tags": []
   },
   "source": [
    "## 1. Coleta dos dados"
   ]
  },
  {
   "cell_type": "code",
   "execution_count": 2,
   "metadata": {
    "tags": []
   },
   "outputs": [],
   "source": [
    "mpg = sns.load_dataset('mpg')\n",
    "mpg.to_csv('../data/raw/mpg.csv', index=False)"
   ]
  },
  {
   "cell_type": "markdown",
   "metadata": {
    "tags": []
   },
   "source": [
    "## 2. Dicionário de dados"
   ]
  },
  {
   "cell_type": "code",
   "execution_count": 3,
   "metadata": {},
   "outputs": [],
   "source": [
    "mpg_dict=pd.DataFrame([\n",
    "    {\n",
    "        'variavel':'mpg',\n",
    "        'descricao':'Milhas por Galão(1 galão = 3.7 L , 1 milha = 1.6 Km)',\n",
    "        'tipo':'quantitativa',\n",
    "        'subtipo':'continua'\n",
    "    },{\n",
    "        'variavel':'cylinders',\n",
    "        'descricao':'Cilindros do carro',\n",
    "        'tipo':'quantitativa',\n",
    "        'subtipo':'discreta'\n",
    "    },{\n",
    "        'variavel':'displacement',\n",
    "        'descricao':'Capacidade do motor',\n",
    "        'tipo':'quantitativa',\n",
    "        'subtipo':'continua'\n",
    "    },{\n",
    "        'variavel':'horsepower',\n",
    "        'descricao':'Potencia em cavalos',\n",
    "        'tipo':'quantitativa',\n",
    "        'subtipo':'continua'\n",
    "    },{\n",
    "        'variavel':'weight',\n",
    "        'descricao':'peso',\n",
    "        'tipo':'quantitativa',\n",
    "        'subtipo':'continua'\n",
    "    },{\n",
    "        'variavel':'aceleration',\n",
    "        'descricao':'tempo para sair de 0 a 100 km/h em segundos',\n",
    "        'tipo':'quantitativa',\n",
    "        'subtipo':'continua'\n",
    "    },{\n",
    "        'variavel':'model_year',\n",
    "        'descricao':'ano do modelo do carro',\n",
    "        'tipo':'quantitativa',\n",
    "        'subtipo':'discreta'\n",
    "    },{\n",
    "        'variavel':'origin',\n",
    "        'descricao':'Local onde foi produzido',\n",
    "        'tipo':'qualitativa',\n",
    "        'subtipo':'nominal'\n",
    "    },{\n",
    "        'variavel':'name',\n",
    "        'descricao':'nome do modelo do carro',\n",
    "        'tipo':'qualitativa',\n",
    "        'subtipo':'nominal'\n",
    "    }\n",
    "])\n",
    "     "
   ]
  },
  {
   "cell_type": "code",
   "execution_count": 4,
   "metadata": {},
   "outputs": [],
   "source": [
    "mpg_dict.to_csv('../data/external/mpg_dict.csv', index=False)"
   ]
  },
  {
   "cell_type": "code",
   "execution_count": null,
   "metadata": {},
   "outputs": [],
   "source": []
  },
  {
   "cell_type": "code",
   "execution_count": null,
   "metadata": {},
   "outputs": [],
   "source": []
  },
  {
   "cell_type": "code",
   "execution_count": null,
   "metadata": {},
   "outputs": [],
   "source": []
  },
  {
   "cell_type": "code",
   "execution_count": null,
   "metadata": {},
   "outputs": [],
   "source": []
  }
 ],
 "metadata": {
  "kernelspec": {
   "display_name": "Python 3 (ipykernel)",
   "language": "python",
   "name": "python3"
  },
  "language_info": {
   "codemirror_mode": {
    "name": "ipython",
    "version": 3
   },
   "file_extension": ".py",
   "mimetype": "text/x-python",
   "name": "python",
   "nbconvert_exporter": "python",
   "pygments_lexer": "ipython3",
   "version": "3.10.12"
  },
  "vscode": {
   "interpreter": {
    "hash": "eb3c3305d8b111f0102f4f519c5f17abd113fe74db6752c355e994a9008815ef"
   }
  }
 },
 "nbformat": 4,
 "nbformat_minor": 4
}
